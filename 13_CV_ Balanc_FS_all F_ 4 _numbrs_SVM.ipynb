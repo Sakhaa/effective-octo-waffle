{
 "cells": [
  {
   "cell_type": "code",
   "execution_count": 27,
   "metadata": {},
   "outputs": [],
   "source": [
    "# conventional way to import pandas\n",
    "import pandas as pd\n",
    "from sklearn.metrics import accuracy_score as acc\n",
    "from sklearn.model_selection import train_test_split\n",
    "from sklearn.metrics import confusion_matrix\n",
    "from sklearn.svm import SVC \n",
    "\n",
    "import numpy as np\n",
    "import pandas as pd\n",
    "from sklearn.ensemble import RandomForestClassifier\n",
    "from sklearn.model_selection import train_test_split\n",
    "from sklearn.metrics import accuracy_score as acc\n",
    "from mlxtend.feature_selection import SequentialFeatureSelector as sfs\n",
    "\n",
    "\n",
    "from sklearn.model_selection import KFold\n",
    "from sklearn.model_selection import cross_val_score\n",
    "\n",
    "# DF TO EXCEL\n",
    "from pandas import ExcelWriter\n",
    "from sklearn.model_selection import train_test_split\n",
    "import seaborn as sns\n",
    "from sklearn.preprocessing import MinMaxScaler\n",
    "from sklearn.linear_model import LogisticRegression\n",
    "from sklearn.tree import DecisionTreeClassifier\n",
    "from sklearn.discriminant_analysis import LinearDiscriminantAnalysis\n",
    "from pandas import ExcelWriter"
   ]
  },
  {
   "cell_type": "code",
   "execution_count": 2,
   "metadata": {},
   "outputs": [
    {
     "data": {
      "text/html": [
       "<div>\n",
       "<style scoped>\n",
       "    .dataframe tbody tr th:only-of-type {\n",
       "        vertical-align: middle;\n",
       "    }\n",
       "\n",
       "    .dataframe tbody tr th {\n",
       "        vertical-align: top;\n",
       "    }\n",
       "\n",
       "    .dataframe thead th {\n",
       "        text-align: right;\n",
       "    }\n",
       "</style>\n",
       "<table border=\"1\" class=\"dataframe\">\n",
       "  <thead>\n",
       "    <tr style=\"text-align: right;\">\n",
       "      <th></th>\n",
       "      <th>0</th>\n",
       "      <th>0.1</th>\n",
       "      <th>1</th>\n",
       "      <th>2</th>\n",
       "      <th>3</th>\n",
       "      <th>4</th>\n",
       "      <th>5</th>\n",
       "      <th>6</th>\n",
       "      <th>7</th>\n",
       "      <th>8</th>\n",
       "      <th>...</th>\n",
       "      <th>436</th>\n",
       "      <th>437</th>\n",
       "      <th>438</th>\n",
       "      <th>439</th>\n",
       "      <th>440</th>\n",
       "      <th>441</th>\n",
       "      <th>442</th>\n",
       "      <th>443</th>\n",
       "      <th>444</th>\n",
       "      <th>445</th>\n",
       "    </tr>\n",
       "  </thead>\n",
       "  <tbody>\n",
       "    <tr>\n",
       "      <th>0</th>\n",
       "      <td>1.204940e+12</td>\n",
       "      <td>1</td>\n",
       "      <td>79</td>\n",
       "      <td>1.0</td>\n",
       "      <td>4597</td>\n",
       "      <td>73.0</td>\n",
       "      <td>164.0</td>\n",
       "      <td>NaN</td>\n",
       "      <td>-1</td>\n",
       "      <td>-1</td>\n",
       "      <td>...</td>\n",
       "      <td>-1.0</td>\n",
       "      <td>-1.0</td>\n",
       "      <td>-1.0</td>\n",
       "      <td>20.0</td>\n",
       "      <td>NaN</td>\n",
       "      <td>1.0</td>\n",
       "      <td>40.0</td>\n",
       "      <td>-1.0</td>\n",
       "      <td>-1.0</td>\n",
       "      <td>-1.0</td>\n",
       "    </tr>\n",
       "    <tr>\n",
       "      <th>1</th>\n",
       "      <td>1.407940e+12</td>\n",
       "      <td>2</td>\n",
       "      <td>76</td>\n",
       "      <td>0.0</td>\n",
       "      <td>4595</td>\n",
       "      <td>74.0</td>\n",
       "      <td>172.0</td>\n",
       "      <td>NaN</td>\n",
       "      <td>1</td>\n",
       "      <td>-1</td>\n",
       "      <td>...</td>\n",
       "      <td>-1.0</td>\n",
       "      <td>-1.0</td>\n",
       "      <td>-1.0</td>\n",
       "      <td>20.0</td>\n",
       "      <td>NaN</td>\n",
       "      <td>1.0</td>\n",
       "      <td>55.0</td>\n",
       "      <td>-1.0</td>\n",
       "      <td>-1.0</td>\n",
       "      <td>-1.0</td>\n",
       "    </tr>\n",
       "    <tr>\n",
       "      <th>2</th>\n",
       "      <td>2.112950e+12</td>\n",
       "      <td>3</td>\n",
       "      <td>72</td>\n",
       "      <td>1.0</td>\n",
       "      <td>4602</td>\n",
       "      <td>NaN</td>\n",
       "      <td>NaN</td>\n",
       "      <td>NaN</td>\n",
       "      <td>1</td>\n",
       "      <td>1</td>\n",
       "      <td>...</td>\n",
       "      <td>-1.0</td>\n",
       "      <td>-1.0</td>\n",
       "      <td>-1.0</td>\n",
       "      <td>NaN</td>\n",
       "      <td>NaN</td>\n",
       "      <td>1.0</td>\n",
       "      <td>72.0</td>\n",
       "      <td>-1.0</td>\n",
       "      <td>-1.0</td>\n",
       "      <td>-1.0</td>\n",
       "    </tr>\n",
       "    <tr>\n",
       "      <th>3</th>\n",
       "      <td>4.129550e+11</td>\n",
       "      <td>4</td>\n",
       "      <td>63</td>\n",
       "      <td>1.0</td>\n",
       "      <td>4600</td>\n",
       "      <td>75.0</td>\n",
       "      <td>168.0</td>\n",
       "      <td>NaN</td>\n",
       "      <td>-1</td>\n",
       "      <td>-1</td>\n",
       "      <td>...</td>\n",
       "      <td>-1.0</td>\n",
       "      <td>-1.0</td>\n",
       "      <td>-1.0</td>\n",
       "      <td>20.0</td>\n",
       "      <td>NaN</td>\n",
       "      <td>1.0</td>\n",
       "      <td>55.0</td>\n",
       "      <td>-1.0</td>\n",
       "      <td>-1.0</td>\n",
       "      <td>-1.0</td>\n",
       "    </tr>\n",
       "    <tr>\n",
       "      <th>4</th>\n",
       "      <td>2.307940e+12</td>\n",
       "      <td>5</td>\n",
       "      <td>80</td>\n",
       "      <td>0.0</td>\n",
       "      <td>4679</td>\n",
       "      <td>85.0</td>\n",
       "      <td>187.0</td>\n",
       "      <td>NaN</td>\n",
       "      <td>-1</td>\n",
       "      <td>-1</td>\n",
       "      <td>...</td>\n",
       "      <td>-1.0</td>\n",
       "      <td>-1.0</td>\n",
       "      <td>-1.0</td>\n",
       "      <td>NaN</td>\n",
       "      <td>NaN</td>\n",
       "      <td>1.0</td>\n",
       "      <td>27.0</td>\n",
       "      <td>-1.0</td>\n",
       "      <td>-1.0</td>\n",
       "      <td>-1.0</td>\n",
       "    </tr>\n",
       "  </tbody>\n",
       "</table>\n",
       "<p>5 rows × 437 columns</p>\n",
       "</div>"
      ],
      "text/plain": [
       "              0  0.1   1    2     3     4      5   6  7  8 ...   436  437  \\\n",
       "0  1.204940e+12    1  79  1.0  4597  73.0  164.0 NaN -1 -1 ...  -1.0 -1.0   \n",
       "1  1.407940e+12    2  76  0.0  4595  74.0  172.0 NaN  1 -1 ...  -1.0 -1.0   \n",
       "2  2.112950e+12    3  72  1.0  4602   NaN    NaN NaN  1  1 ...  -1.0 -1.0   \n",
       "3  4.129550e+11    4  63  1.0  4600  75.0  168.0 NaN -1 -1 ...  -1.0 -1.0   \n",
       "4  2.307940e+12    5  80  0.0  4679  85.0  187.0 NaN -1 -1 ...  -1.0 -1.0   \n",
       "\n",
       "   438   439  440  441   442  443  444  445  \n",
       "0 -1.0  20.0  NaN  1.0  40.0 -1.0 -1.0 -1.0  \n",
       "1 -1.0  20.0  NaN  1.0  55.0 -1.0 -1.0 -1.0  \n",
       "2 -1.0   NaN  NaN  1.0  72.0 -1.0 -1.0 -1.0  \n",
       "3 -1.0  20.0  NaN  1.0  55.0 -1.0 -1.0 -1.0  \n",
       "4 -1.0   NaN  NaN  1.0  27.0 -1.0 -1.0 -1.0  \n",
       "\n",
       "[5 rows x 437 columns]"
      ]
     },
     "execution_count": 2,
     "metadata": {},
     "output_type": "execute_result"
    }
   ],
   "source": [
    "# read CSV file from the 'data' subdirectory using a relative path\n",
    "Dataset= pd.read_csv('C:\\\\Users\\\\Admin\\\\Desktop\\\\CS3123\\\\Data_Set\\\\Dataset.csv')\n",
    "\n",
    "# display the first 5 rows\n",
    "Dataset.head()"
   ]
  },
  {
   "cell_type": "code",
   "execution_count": 3,
   "metadata": {},
   "outputs": [],
   "source": [
    "# Drop index and unnessery featuer \n",
    "Dataset.drop(['0', '0.1','3','187'], axis=1,inplace=True)"
   ]
  },
  {
   "cell_type": "code",
   "execution_count": 4,
   "metadata": {},
   "outputs": [],
   "source": [
    "#Drop all features except (Age - gender -Height -weight)\n",
    "#subset=Dataset.drop(Dataset.columns.to_series()[\"6\":\"445\"], axis=1)\n",
    "subset=Dataset"
   ]
  },
  {
   "cell_type": "code",
   "execution_count": 5,
   "metadata": {},
   "outputs": [
    {
     "data": {
      "text/plain": [
       "1         0\n",
       "2         1\n",
       "4       418\n",
       "5       417\n",
       "6      2768\n",
       "7         0\n",
       "8         0\n",
       "9       365\n",
       "10        0\n",
       "11        0\n",
       "12        0\n",
       "13        0\n",
       "14        0\n",
       "15        0\n",
       "16        0\n",
       "17        0\n",
       "18        0\n",
       "19        0\n",
       "20        0\n",
       "21        0\n",
       "22      266\n",
       "23      266\n",
       "24     2370\n",
       "25     2397\n",
       "26      755\n",
       "27      763\n",
       "28     2758\n",
       "29      164\n",
       "30      165\n",
       "31      274\n",
       "       ... \n",
       "415    1978\n",
       "416    1978\n",
       "417    1978\n",
       "418    1978\n",
       "419    1978\n",
       "420    1978\n",
       "421    1978\n",
       "422    1978\n",
       "423    1978\n",
       "424    1978\n",
       "426    1978\n",
       "427    1978\n",
       "428    1978\n",
       "429    1978\n",
       "430    1978\n",
       "431    1978\n",
       "432    2724\n",
       "433    1978\n",
       "434    1978\n",
       "435    1978\n",
       "436    1978\n",
       "437    1978\n",
       "438    1978\n",
       "439    2583\n",
       "440    2771\n",
       "441    1869\n",
       "442    1869\n",
       "443    1869\n",
       "444    1869\n",
       "445    1880\n",
       "Length: 433, dtype: int64"
      ]
     },
     "execution_count": 5,
     "metadata": {},
     "output_type": "execute_result"
    }
   ],
   "source": [
    "subset.isna().sum()"
   ]
  },
  {
   "cell_type": "code",
   "execution_count": 6,
   "metadata": {},
   "outputs": [],
   "source": [
    "\n",
    "#Missing da\n"
   ]
  },
  {
   "cell_type": "code",
   "execution_count": 7,
   "metadata": {},
   "outputs": [
    {
     "data": {
      "text/plain": [
       "(2771, 433)"
      ]
     },
     "execution_count": 7,
     "metadata": {},
     "output_type": "execute_result"
    }
   ],
   "source": [
    "import numpy as np\n",
    "\n",
    "# Drop sample that has missing value in Gender feater \n",
    "H_Data=subset.drop(subset.index[1319])\n",
    "\n",
    "H_Data.shape"
   ]
  },
  {
   "cell_type": "code",
   "execution_count": 8,
   "metadata": {},
   "outputs": [],
   "source": [
    "#removing outliers\n",
    "H_Data = H_Data[(H_Data['1']> 0)]\n",
    "H_Data= H_Data[(H_Data['1']<100)]\n",
    "\n"
   ]
  },
  {
   "cell_type": "code",
   "execution_count": 9,
   "metadata": {},
   "outputs": [
    {
     "data": {
      "text/plain": [
       "1         0\n",
       "2         0\n",
       "4       416\n",
       "5       415\n",
       "6      2755\n",
       "7         0\n",
       "8         0\n",
       "9       365\n",
       "10        0\n",
       "11        0\n",
       "12        0\n",
       "13        0\n",
       "14        0\n",
       "15        0\n",
       "16        0\n",
       "17        0\n",
       "18        0\n",
       "19        0\n",
       "20        0\n",
       "21        0\n",
       "22      266\n",
       "23      266\n",
       "24     2358\n",
       "25     2385\n",
       "26      752\n",
       "27      760\n",
       "28     2745\n",
       "29      164\n",
       "30      165\n",
       "31      274\n",
       "       ... \n",
       "415    1968\n",
       "416    1968\n",
       "417    1968\n",
       "418    1968\n",
       "419    1968\n",
       "420    1968\n",
       "421    1968\n",
       "422    1968\n",
       "423    1968\n",
       "424    1968\n",
       "426    1968\n",
       "427    1968\n",
       "428    1968\n",
       "429    1968\n",
       "430    1968\n",
       "431    1968\n",
       "432    2711\n",
       "433    1968\n",
       "434    1968\n",
       "435    1968\n",
       "436    1968\n",
       "437    1968\n",
       "438    1968\n",
       "439    2570\n",
       "440    2758\n",
       "441    1860\n",
       "442    1860\n",
       "443    1860\n",
       "444    1860\n",
       "445    1871\n",
       "Length: 433, dtype: int64"
      ]
     },
     "execution_count": 9,
     "metadata": {},
     "output_type": "execute_result"
    }
   ],
   "source": [
    "H_Data.isna().sum()"
   ]
  },
  {
   "cell_type": "code",
   "execution_count": 10,
   "metadata": {},
   "outputs": [],
   "source": [
    "#Removing outliers from Hight\n",
    "Data = H_Data[(H_Data['5']> 145)]\n",
    "Data = H_Data[(H_Data['5']<195)]"
   ]
  },
  {
   "cell_type": "markdown",
   "metadata": {},
   "source": [
    "# Visualizing data using seaborn\n",
    "\n",
    "**Seaborn:** Python library for statistical data visualization built on top of Matplotlib"
   ]
  },
  {
   "cell_type": "code",
   "execution_count": 11,
   "metadata": {},
   "outputs": [
    {
     "data": {
      "text/plain": [
       "1         0\n",
       "2         0\n",
       "4         3\n",
       "5         0\n",
       "6      2336\n",
       "7         0\n",
       "8         0\n",
       "9       283\n",
       "10        0\n",
       "11        0\n",
       "12        0\n",
       "13        0\n",
       "14        0\n",
       "15        0\n",
       "16        0\n",
       "17        0\n",
       "18        0\n",
       "19        0\n",
       "20        0\n",
       "21        0\n",
       "22      141\n",
       "23      140\n",
       "24     1967\n",
       "25     1983\n",
       "26      622\n",
       "27      631\n",
       "28     2328\n",
       "29       58\n",
       "30       59\n",
       "31      123\n",
       "       ... \n",
       "415    1683\n",
       "416    1683\n",
       "417    1683\n",
       "418    1683\n",
       "419    1683\n",
       "420    1683\n",
       "421    1683\n",
       "422    1683\n",
       "423    1683\n",
       "424    1683\n",
       "426    1683\n",
       "427    1683\n",
       "428    1683\n",
       "429    1683\n",
       "430    1683\n",
       "431    1683\n",
       "432    2297\n",
       "433    1683\n",
       "434    1683\n",
       "435    1683\n",
       "436    1683\n",
       "437    1683\n",
       "438    1683\n",
       "439    2178\n",
       "440    2339\n",
       "441    1570\n",
       "442    1570\n",
       "443    1570\n",
       "444    1570\n",
       "445    1578\n",
       "Length: 433, dtype: int64"
      ]
     },
     "execution_count": 11,
     "metadata": {},
     "output_type": "execute_result"
    }
   ],
   "source": [
    "Data.isna().sum()"
   ]
  },
  {
   "cell_type": "code",
   "execution_count": 12,
   "metadata": {},
   "outputs": [],
   "source": [
    "#Removing outliers from Weight\n",
    "Data = Data[(Data['4']> 38)]\n",
    "Data = Data[(Data['4']<250)]"
   ]
  },
  {
   "cell_type": "code",
   "execution_count": 13,
   "metadata": {},
   "outputs": [
    {
     "data": {
      "text/plain": [
       "1         0\n",
       "2         0\n",
       "4         0\n",
       "5         0\n",
       "6      2332\n",
       "7         0\n",
       "8         0\n",
       "9       282\n",
       "10        0\n",
       "11        0\n",
       "12        0\n",
       "13        0\n",
       "14        0\n",
       "15        0\n",
       "16        0\n",
       "17        0\n",
       "18        0\n",
       "19        0\n",
       "20        0\n",
       "21        0\n",
       "22      141\n",
       "23      140\n",
       "24     1963\n",
       "25     1979\n",
       "26      620\n",
       "27      630\n",
       "28     2322\n",
       "29       58\n",
       "30       59\n",
       "31      123\n",
       "       ... \n",
       "415    1679\n",
       "416    1679\n",
       "417    1679\n",
       "418    1679\n",
       "419    1679\n",
       "420    1679\n",
       "421    1679\n",
       "422    1679\n",
       "423    1679\n",
       "424    1679\n",
       "426    1679\n",
       "427    1679\n",
       "428    1679\n",
       "429    1679\n",
       "430    1679\n",
       "431    1679\n",
       "432    2292\n",
       "433    1679\n",
       "434    1679\n",
       "435    1679\n",
       "436    1679\n",
       "437    1679\n",
       "438    1679\n",
       "439    2173\n",
       "440    2333\n",
       "441    1566\n",
       "442    1566\n",
       "443    1566\n",
       "444    1566\n",
       "445    1574\n",
       "Length: 433, dtype: int64"
      ]
     },
     "execution_count": 13,
     "metadata": {},
     "output_type": "execute_result"
    }
   ],
   "source": [
    "Data.isna().sum()"
   ]
  },
  {
   "cell_type": "code",
   "execution_count": 14,
   "metadata": {},
   "outputs": [],
   "source": [
    "Data_BN=Data.dropna(axis='columns')"
   ]
  },
  {
   "cell_type": "code",
   "execution_count": 15,
   "metadata": {},
   "outputs": [
    {
     "data": {
      "text/plain": [
       "1     0\n",
       "2     0\n",
       "4     0\n",
       "5     0\n",
       "7     0\n",
       "8     0\n",
       "10    0\n",
       "11    0\n",
       "12    0\n",
       "13    0\n",
       "14    0\n",
       "15    0\n",
       "16    0\n",
       "17    0\n",
       "18    0\n",
       "19    0\n",
       "20    0\n",
       "21    0\n",
       "32    0\n",
       "33    0\n",
       "34    0\n",
       "35    0\n",
       "39    0\n",
       "40    0\n",
       "41    0\n",
       "42    0\n",
       "43    0\n",
       "44    0\n",
       "45    0\n",
       "46    0\n",
       "47    0\n",
       "48    0\n",
       "49    0\n",
       "50    0\n",
       "51    0\n",
       "52    0\n",
       "53    0\n",
       "54    0\n",
       "55    0\n",
       "56    0\n",
       "57    0\n",
       "58    0\n",
       "59    0\n",
       "60    0\n",
       "61    0\n",
       "62    0\n",
       "63    0\n",
       "65    0\n",
       "66    0\n",
       "67    0\n",
       "68    0\n",
       "69    0\n",
       "70    0\n",
       "72    0\n",
       "73    0\n",
       "74    0\n",
       "75    0\n",
       "76    0\n",
       "77    0\n",
       "dtype: int64"
      ]
     },
     "execution_count": 15,
     "metadata": {},
     "output_type": "execute_result"
    }
   ],
   "source": [
    "Data_BN.isna().sum()"
   ]
  },
  {
   "cell_type": "code",
   "execution_count": 16,
   "metadata": {},
   "outputs": [],
   "source": [
    "# Female subset\n",
    "F_Data=Data_BN[Data_BN['2'] == 0.0]\n",
    "#Male subset\n",
    "M_Data=Data_BN[Data_BN['2'] == 1.0]"
   ]
  },
  {
   "cell_type": "code",
   "execution_count": 17,
   "metadata": {},
   "outputs": [
    {
     "data": {
      "text/plain": [
       "(1391, 59)"
      ]
     },
     "execution_count": 17,
     "metadata": {},
     "output_type": "execute_result"
    }
   ],
   "source": [
    "F_Data.shape"
   ]
  },
  {
   "cell_type": "code",
   "execution_count": 18,
   "metadata": {},
   "outputs": [
    {
     "data": {
      "text/plain": [
       "(943, 59)"
      ]
     },
     "execution_count": 18,
     "metadata": {},
     "output_type": "execute_result"
    }
   ],
   "source": [
    "M_Data.shape"
   ]
  },
  {
   "cell_type": "code",
   "execution_count": 19,
   "metadata": {},
   "outputs": [],
   "source": [
    "BF_Data=F_Data.sample(943, random_state=0)"
   ]
  },
  {
   "cell_type": "code",
   "execution_count": 20,
   "metadata": {},
   "outputs": [],
   "source": [
    "frames = [M_Data, BF_Data]"
   ]
  },
  {
   "cell_type": "code",
   "execution_count": 21,
   "metadata": {},
   "outputs": [],
   "source": [
    "MF_Data = pd.concat(frames)"
   ]
  },
  {
   "cell_type": "code",
   "execution_count": 22,
   "metadata": {},
   "outputs": [
    {
     "data": {
      "text/plain": [
       "(1886, 59)"
      ]
     },
     "execution_count": 22,
     "metadata": {},
     "output_type": "execute_result"
    }
   ],
   "source": [
    "MF_Data.shape"
   ]
  },
  {
   "cell_type": "code",
   "execution_count": 23,
   "metadata": {},
   "outputs": [
    {
     "data": {
      "text/plain": [
       "(1886,)"
      ]
     },
     "execution_count": 23,
     "metadata": {},
     "output_type": "execute_result"
    }
   ],
   "source": [
    "# select a Series from the DataFrame\n",
    "y = MF_Data['2']\n",
    "TT=MF_Data.drop(['2'],axis=1)\n",
    "X=TT[:]\n",
    "# print the first 5 values\n",
    "y.shape\n"
   ]
  },
  {
   "cell_type": "markdown",
   "metadata": {},
   "source": [
    "# Splitting Data"
   ]
  },
  {
   "cell_type": "code",
   "execution_count": 24,
   "metadata": {
    "scrolled": true
   },
   "outputs": [
    {
     "name": "stdout",
     "output_type": "stream",
     "text": [
      "Training dataset shape: (1414, 58) (1414,)\n",
      "Testing dataset shape: (472, 58) (472,)\n"
     ]
    }
   ],
   "source": [
    "X_train, X_test, y_train, y_test = train_test_split( X,y,test_size=0.25,random_state=42)\n",
    "\n",
    "y_train = y_train.ravel()\n",
    "y_test = y_test.ravel()\n",
    "\n",
    "print('Training dataset shape:', X_train.shape, y_train.shape)\n",
    "print('Testing dataset shape:', X_test.shape, y_test.shape)"
   ]
  },
  {
   "cell_type": "markdown",
   "metadata": {},
   "source": [
    "# #  Feature selection_ with 5-fold CV SVM"
   ]
  },
  {
   "cell_type": "code",
   "execution_count": 29,
   "metadata": {},
   "outputs": [
    {
     "name": "stderr",
     "output_type": "stream",
     "text": [
      "[Parallel(n_jobs=1)]: Done   1 out of   1 | elapsed:    0.2s remaining:    0.0s\n",
      "[Parallel(n_jobs=1)]: Done  58 out of  58 | elapsed:    5.8s finished\n",
      "\n",
      "[2018-11-21 21:26:20] Features: 1/28 -- score: 0.7970252863193243[Parallel(n_jobs=1)]: Done   1 out of   1 | elapsed:    1.1s remaining:    0.0s\n",
      "[Parallel(n_jobs=1)]: Done  57 out of  57 | elapsed:   37.9s finished\n",
      "\n",
      "[2018-11-21 21:26:58] Features: 2/28 -- score: 0.803385710347593[Parallel(n_jobs=1)]: Done   1 out of   1 | elapsed:    0.9s remaining:    0.0s\n",
      "[Parallel(n_jobs=1)]: Done  56 out of  56 | elapsed:   37.8s finished\n",
      "\n",
      "[2018-11-21 21:27:36] Features: 3/28 -- score: 0.805513369922061[Parallel(n_jobs=1)]: Done   1 out of   1 | elapsed:    0.9s remaining:    0.0s\n",
      "[Parallel(n_jobs=1)]: Done  55 out of  55 | elapsed:   38.3s finished\n",
      "\n",
      "[2018-11-21 21:28:14] Features: 4/28 -- score: 0.8069368217928478[Parallel(n_jobs=1)]: Done   1 out of   1 | elapsed:    0.9s remaining:    0.0s\n",
      "[Parallel(n_jobs=1)]: Done  54 out of  54 | elapsed:   40.4s finished\n",
      "\n",
      "[2018-11-21 21:28:55] Features: 5/28 -- score: 0.8083502493546852[Parallel(n_jobs=1)]: Done   1 out of   1 | elapsed:    1.0s remaining:    0.0s\n",
      "[Parallel(n_jobs=1)]: Done  53 out of  53 | elapsed:   38.8s finished\n",
      "\n",
      "[2018-11-21 21:29:34] Features: 6/28 -- score: 0.8083502493546852[Parallel(n_jobs=1)]: Done   1 out of   1 | elapsed:    1.1s remaining:    0.0s\n",
      "[Parallel(n_jobs=1)]: Done  52 out of  52 | elapsed:   38.3s finished\n",
      "\n",
      "[2018-11-21 21:30:12] Features: 7/28 -- score: 0.8083502493546852[Parallel(n_jobs=1)]: Done   1 out of   1 | elapsed:    1.0s remaining:    0.0s\n",
      "[Parallel(n_jobs=1)]: Done  51 out of  51 | elapsed:   38.3s finished\n",
      "\n",
      "[2018-11-21 21:30:51] Features: 8/28 -- score: 0.8076435355737666[Parallel(n_jobs=1)]: Done   1 out of   1 | elapsed:    1.0s remaining:    0.0s\n",
      "[Parallel(n_jobs=1)]: Done  50 out of  50 | elapsed:   38.3s finished\n",
      "\n",
      "[2018-11-21 21:31:29] Features: 9/28 -- score: 0.8069343157156105[Parallel(n_jobs=1)]: Done   1 out of   1 | elapsed:    1.0s remaining:    0.0s\n",
      "[Parallel(n_jobs=1)]: Done  49 out of  49 | elapsed:   38.8s finished\n",
      "\n",
      "[2018-11-21 21:32:08] Features: 10/28 -- score: 0.8069343157156105[Parallel(n_jobs=1)]: Done   1 out of   1 | elapsed:    1.1s remaining:    0.0s\n",
      "[Parallel(n_jobs=1)]: Done  48 out of  48 | elapsed:   39.1s finished\n",
      "\n",
      "[2018-11-21 21:32:47] Features: 11/28 -- score: 0.8076360173420545[Parallel(n_jobs=1)]: Done   1 out of   1 | elapsed:    1.1s remaining:    0.0s\n",
      "[Parallel(n_jobs=1)]: Done  47 out of  47 | elapsed:   39.2s finished\n",
      "\n",
      "[2018-11-21 21:33:26] Features: 12/28 -- score: 0.8104653785429667[Parallel(n_jobs=1)]: Done   1 out of   1 | elapsed:    1.2s remaining:    0.0s\n",
      "[Parallel(n_jobs=1)]: Done  46 out of  46 | elapsed:   40.9s finished\n",
      "\n",
      "[2018-11-21 21:34:07] Features: 13/28 -- score: 0.8111720923238854[Parallel(n_jobs=1)]: Done   1 out of   1 | elapsed:    1.1s remaining:    0.0s\n",
      "[Parallel(n_jobs=1)]: Done  45 out of  45 | elapsed:   38.1s finished\n",
      "\n",
      "[2018-11-21 21:34:46] Features: 14/28 -- score: 0.8111745984011229[Parallel(n_jobs=1)]: Done   1 out of   1 | elapsed:    1.2s remaining:    0.0s\n",
      "[Parallel(n_jobs=1)]: Done  44 out of  44 | elapsed:   37.6s finished\n",
      "\n",
      "[2018-11-21 21:35:23] Features: 15/28 -- score: 0.8111745984011229[Parallel(n_jobs=1)]: Done   1 out of   1 | elapsed:    1.4s remaining:    0.0s\n",
      "[Parallel(n_jobs=1)]: Done  43 out of  43 | elapsed:   38.5s finished\n",
      "\n",
      "[2018-11-21 21:36:02] Features: 16/28 -- score: 0.8111720923238854[Parallel(n_jobs=1)]: Done   1 out of   1 | elapsed:    1.3s remaining:    0.0s\n",
      "[Parallel(n_jobs=1)]: Done  42 out of  42 | elapsed:   37.2s finished\n",
      "\n",
      "[2018-11-21 21:36:39] Features: 17/28 -- score: 0.8111720923238854[Parallel(n_jobs=1)]: Done   1 out of   1 | elapsed:    1.3s remaining:    0.0s\n",
      "[Parallel(n_jobs=1)]: Done  41 out of  41 | elapsed:   37.0s finished\n",
      "\n",
      "[2018-11-21 21:37:16] Features: 18/28 -- score: 0.8111720923238854[Parallel(n_jobs=1)]: Done   1 out of   1 | elapsed:    1.4s remaining:    0.0s\n",
      "[Parallel(n_jobs=1)]: Done  40 out of  40 | elapsed:   37.3s finished\n",
      "\n",
      "[2018-11-21 21:37:54] Features: 19/28 -- score: 0.8111720923238854[Parallel(n_jobs=1)]: Done   1 out of   1 | elapsed:    1.3s remaining:    0.0s\n",
      "[Parallel(n_jobs=1)]: Done  39 out of  39 | elapsed:   35.1s finished\n",
      "\n",
      "[2018-11-21 21:38:29] Features: 20/28 -- score: 0.8104653785429667[Parallel(n_jobs=1)]: Done   1 out of   1 | elapsed:    1.3s remaining:    0.0s\n",
      "[Parallel(n_jobs=1)]: Done  38 out of  38 | elapsed:   35.4s finished\n",
      "\n",
      "[2018-11-21 21:39:04] Features: 21/28 -- score: 0.8104628724657295[Parallel(n_jobs=1)]: Done   1 out of   1 | elapsed:    1.3s remaining:    0.0s\n",
      "[Parallel(n_jobs=1)]: Done  37 out of  37 | elapsed:   35.0s finished\n",
      "\n",
      "[2018-11-21 21:39:40] Features: 22/28 -- score: 0.8090519509811293[Parallel(n_jobs=1)]: Done   1 out of   1 | elapsed:    1.4s remaining:    0.0s\n",
      "[Parallel(n_jobs=1)]: Done  36 out of  36 | elapsed:   36.1s finished\n",
      "\n",
      "[2018-11-21 21:40:16] Features: 23/28 -- score: 0.8090519509811293[Parallel(n_jobs=1)]: Done   1 out of   1 | elapsed:    1.4s remaining:    0.0s\n",
      "[Parallel(n_jobs=1)]: Done  35 out of  35 | elapsed:   36.0s finished\n",
      "\n",
      "[2018-11-21 21:40:52] Features: 24/28 -- score: 0.8083452372002105[Parallel(n_jobs=1)]: Done   1 out of   1 | elapsed:    1.5s remaining:    0.0s\n",
      "[Parallel(n_jobs=1)]: Done  34 out of  34 | elapsed:   34.4s finished\n",
      "\n",
      "[2018-11-21 21:41:26] Features: 25/28 -- score: 0.8069293035611358[Parallel(n_jobs=1)]: Done   1 out of   1 | elapsed:    1.4s remaining:    0.0s\n",
      "[Parallel(n_jobs=1)]: Done  33 out of  33 | elapsed:   33.9s finished\n",
      "\n",
      "[2018-11-21 21:42:00] Features: 26/28 -- score: 0.8069293035611358[Parallel(n_jobs=1)]: Done   1 out of   1 | elapsed:    1.5s remaining:    0.0s\n",
      "[Parallel(n_jobs=1)]: Done  32 out of  32 | elapsed:   33.4s finished\n",
      "\n",
      "[2018-11-21 21:42:34] Features: 27/28 -- score: 0.8076360173420545[Parallel(n_jobs=1)]: Done   1 out of   1 | elapsed:    1.5s remaining:    0.0s\n",
      "[Parallel(n_jobs=1)]: Done  31 out of  31 | elapsed:   34.4s finished\n",
      "\n",
      "[2018-11-21 21:43:08] Features: 28/28 -- score: 0.8076360173420545"
     ]
    }
   ],
   "source": [
    "### Build SVM classifier to use in feature selection\n",
    "SVM_F =  SVC(kernel='linear') \n",
    "# Build step forward feature selection\n",
    "sfs_SVMF = sfs(SVM_F,\n",
    "           k_features=28,\n",
    "           forward=True,\n",
    "           floating=False,\n",
    "           verbose=2,\n",
    "           scoring='accuracy',\n",
    "           cv=5)\n",
    "\n",
    "# Perform SFFS\n",
    "sfs_SVMF = sfs_SVMF.fit(X_train, y_train)"
   ]
  },
  {
   "cell_type": "code",
   "execution_count": 30,
   "metadata": {},
   "outputs": [
    {
     "ename": "NameError",
     "evalue": "name 'sfs_LR' is not defined",
     "output_type": "error",
     "traceback": [
      "\u001b[1;31m---------------------------------------------------------------------------\u001b[0m",
      "\u001b[1;31mNameError\u001b[0m                                 Traceback (most recent call last)",
      "\u001b[1;32m<ipython-input-30-648f09d773bd>\u001b[0m in \u001b[0;36m<module>\u001b[1;34m()\u001b[0m\n\u001b[0;32m      1\u001b[0m \u001b[1;31m# Which features?\u001b[0m\u001b[1;33m\u001b[0m\u001b[1;33m\u001b[0m\u001b[0m\n\u001b[1;32m----> 2\u001b[1;33m \u001b[0mfeat_cols\u001b[0m \u001b[1;33m=\u001b[0m \u001b[0mlist\u001b[0m\u001b[1;33m(\u001b[0m\u001b[0msfs_LR\u001b[0m\u001b[1;33m.\u001b[0m\u001b[0mk_feature_idx_\u001b[0m\u001b[1;33m)\u001b[0m\u001b[1;33m\u001b[0m\u001b[0m\n\u001b[0m\u001b[0;32m      3\u001b[0m \u001b[0mprint\u001b[0m\u001b[1;33m(\u001b[0m\u001b[0mfeat_cols\u001b[0m\u001b[1;33m)\u001b[0m\u001b[1;33m\u001b[0m\u001b[0m\n",
      "\u001b[1;31mNameError\u001b[0m: name 'sfs_LR' is not defined"
     ]
    }
   ],
   "source": [
    "# Which features?\n",
    "feat_cols = list(sfs_LR.k_feature_idx_)\n",
    "print(feat_cols)"
   ]
  },
  {
   "cell_type": "markdown",
   "metadata": {},
   "source": [
    "# Build ML model with best K Features\n"
   ]
  },
  {
   "cell_type": "markdown",
   "metadata": {},
   "source": [
    "# Logistic Regression"
   ]
  },
  {
   "cell_type": "code",
   "execution_count": null,
   "metadata": {},
   "outputs": [],
   "source": [
    "# Build full model with selected features\n",
    "clf =LogisticRegression()\n",
    "clf.fit(X_train.iloc[:, feat_cols], y_train)\n",
    "\n",
    "y_train_pred = clf.predict(X_train.iloc[:, feat_cols])\n",
    "print('Training accuracy on selected features: %.3f' % acc(y_train, y_train_pred))\n",
    "\n",
    "y_test_pred = clf.predict(X_test.iloc[:, feat_cols])\n",
    "print('Testing accuracy on selected features: %.3f' % acc(y_test, y_test_pred))\n",
    "\n"
   ]
  },
  {
   "cell_type": "code",
   "execution_count": null,
   "metadata": {},
   "outputs": [],
   "source": [
    "# Build full model with all features\n",
    "clf =LogisticRegression()\n",
    "clf.fit(X_train, y_train)\n",
    "\n",
    "y_train_pred = clf.predict(X_train)\n",
    "print('Training accuracy on selected features: %.3f' % acc(y_train, y_train_pred))\n",
    "\n",
    "y_test_pred = clf.predict(X_test)\n",
    "print('Testing accuracy on selected features: %.3f' % acc(y_test, y_test_pred))\n"
   ]
  },
  {
   "cell_type": "markdown",
   "metadata": {},
   "source": [
    "#  Decision Tree  with  28 FS"
   ]
  },
  {
   "cell_type": "code",
   "execution_count": null,
   "metadata": {},
   "outputs": [],
   "source": [
    "#10-fold cross-validation with Decision Tree\n",
    "DT = DecisionTreeClassifier()\n",
    "DT.fit(X_train.iloc[:, feat_cols], y_train)\n",
    "\n",
    "y_train_pred = DT.predict(X_train.iloc[:, feat_cols])\n",
    "print('Training accuracy on selected features: %.3f' % acc(y_train, y_train_pred))\n",
    "\n",
    "y_test_pred = DT.predict(X_test.iloc[:, feat_cols])\n",
    "print('Testing accuracy on selected features: %.3f' % acc(y_test, y_test_pred))"
   ]
  },
  {
   "cell_type": "code",
   "execution_count": null,
   "metadata": {},
   "outputs": [],
   "source": [
    "# Build full model with all features\n",
    "DT = DecisionTreeClassifier()\n",
    "DT.fit(X_train, y_train)\n",
    "\n",
    "y_train_pred = DT.predict(X_train)\n",
    "print('Training accuracy on selected features: %.3f' % acc(y_train, y_train_pred))\n",
    "\n",
    "y_test_pred = DT.predict(X_test)\n",
    "print('Testing accuracy on selected features: %.3f' % acc(y_test, y_test_pred))"
   ]
  },
  {
   "cell_type": "markdown",
   "metadata": {},
   "source": [
    "# SVM with 28 FS"
   ]
  },
  {
   "cell_type": "code",
   "execution_count": null,
   "metadata": {},
   "outputs": [],
   "source": [
    "from sklearn.svm import SVC \n",
    "\n",
    "# Build full model with selected features\n",
    "\n",
    "SVM= SVC(kernel='linear') \n",
    "SVM.fit(X_train.iloc[:, feat_cols], y_train)\n",
    "\n",
    "y_train_pred = SVM.predict(X_train.iloc[:, feat_cols])\n",
    "print('Training accuracy on selected features: %.3f' % acc(y_train, y_train_pred))\n",
    "\n",
    "y_test_pred = SVM.predict(X_test.iloc[:, feat_cols])\n",
    "print('Testing accuracy on selected features: %.3f' % acc(y_test, y_test_pred))"
   ]
  },
  {
   "cell_type": "code",
   "execution_count": null,
   "metadata": {},
   "outputs": [],
   "source": [
    "# Build full model on ALL features, for comparison\n",
    "SVM= SVC(kernel='linear') \n",
    "SVM.fit(X_train, y_train)\n",
    "\n",
    "y_train_pred = SVM.predict(X_train)\n",
    "print('Training accuracy on selected features: %.3f' % acc(y_train, y_train_pred))\n",
    "\n",
    "y_test_pred = SVM.predict(X_test)\n",
    "print('Testing accuracy on selected features: %.3f' % acc(y_test, y_test_pred))"
   ]
  },
  {
   "cell_type": "markdown",
   "metadata": {},
   "source": [
    "# Random Forest"
   ]
  },
  {
   "cell_type": "code",
   "execution_count": null,
   "metadata": {},
   "outputs": [],
   "source": [
    "\n",
    "RF_C = RandomForestClassifier(n_estimators=100, n_jobs=-1)\n",
    "RF_C.fit(X_train.iloc[:, feat_cols], y_train)\n",
    "\n",
    "y_train_pred = RF_C.predict(X_train.iloc[:, feat_cols])\n",
    "print('Training accuracy on selected features: %.3f' % acc(y_train, y_train_pred))\n",
    "\n",
    "y_test_pred = RF_C.predict(X_test.iloc[:, feat_cols])\n",
    "print('Testing accuracy on selected features: %.3f' % acc(y_test, y_test_pred))"
   ]
  },
  {
   "cell_type": "code",
   "execution_count": null,
   "metadata": {},
   "outputs": [],
   "source": [
    "RF_C = RandomForestClassifier(n_estimators=100, n_jobs=-1)\n",
    "RF_C.fit(X_train, y_train)\n",
    "\n",
    "y_train_pred = RF_C.predict(X_train)\n",
    "print('Training accuracy on selected features: %.3f' % acc(y_train, y_train_pred))\n",
    "\n",
    "y_test_pred = RF_C.predict(X_test)\n",
    "print('Testing accuracy on selected features: %.3f' % acc(y_test, y_test_pred))"
   ]
  },
  {
   "cell_type": "code",
   "execution_count": null,
   "metadata": {},
   "outputs": [],
   "source": []
  },
  {
   "cell_type": "code",
   "execution_count": null,
   "metadata": {},
   "outputs": [],
   "source": []
  },
  {
   "cell_type": "code",
   "execution_count": null,
   "metadata": {},
   "outputs": [],
   "source": []
  },
  {
   "cell_type": "code",
   "execution_count": null,
   "metadata": {},
   "outputs": [],
   "source": []
  }
 ],
 "metadata": {
  "kernelspec": {
   "display_name": "Python 3",
   "language": "python",
   "name": "python3"
  },
  "language_info": {
   "codemirror_mode": {
    "name": "ipython",
    "version": 3
   },
   "file_extension": ".py",
   "mimetype": "text/x-python",
   "name": "python",
   "nbconvert_exporter": "python",
   "pygments_lexer": "ipython3",
   "version": "3.6.5"
  }
 },
 "nbformat": 4,
 "nbformat_minor": 2
}
